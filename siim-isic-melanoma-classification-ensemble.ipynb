{
 "cells": [
  {
   "cell_type": "code",
   "execution_count": 1,
   "metadata": {
    "_cell_guid": "b1076dfc-b9ad-4769-8c92-a6c4dae69d19",
    "_uuid": "8f2839f25d086af736a60e9eeb907d3b93b6e0e5"
   },
   "outputs": [],
   "source": [
    "import numpy as np\n",
    "import pandas as pd "
   ]
  },
  {
   "cell_type": "code",
   "execution_count": 2,
   "metadata": {
    "_cell_guid": "79c7e3d0-c299-4dcb-8224-4455121ee9b0",
    "_uuid": "d629ff2d2480ee46fbb7e2d37f6b5fab8052498a"
   },
   "outputs": [],
   "source": [
    "sub_image = pd.read_csv('/kaggle/input/melanoma-submissions2/submissionImage.csv')\n",
    "sub_tabular = pd.read_csv('/kaggle/input/melanoma-submissions2/submissionTabular.csv')\n",
    "sub_tabular78 = pd.read_csv('/kaggle/input/tabular-prediction/submission_tabular_78.csv')\n",
    "sub_multiple = pd.read_csv('/kaggle/input/melanoma-submissions2/submission_multiple_data_source.csv')\n",
    "sub_public_merge = pd.read_csv('/kaggle/input/submission-9/submission_935.csv')\n",
    "sub = pd.read_csv('/kaggle/input/siim-isic-melanoma-classification/sample_submission.csv')\n",
    "sub_score946 = pd.read_csv('../input/submission-9/submission_946.csv')\n",
    "sub_score940 = pd.read_csv('../input/submission-9/submission_940.csv')\n",
    "\n",
    "\n",
    "sub_mean = pd.read_csv('/kaggle/input/siim-isic-multiple-model-training-stacking-923/submission_mean.csv')"
   ]
  },
  {
   "cell_type": "code",
   "execution_count": 3,
   "metadata": {},
   "outputs": [],
   "source": [
    "# sub.target = sub_multiple.target *0.0 + sub_mean.target *0.55 + sub_tabular.target *0.45\n",
    "# sub.target = sub_mean.target *0.2 + sub_public_merge.target *0.5 + sub_tabular78.target *0.3\n",
    "sub.target = sub_score946.target *0.98 + sub_score940.target *0.0 + sub_tabular78.target *0.02"
   ]
  },
  {
   "cell_type": "code",
   "execution_count": 4,
   "metadata": {},
   "outputs": [],
   "source": [
    "sub.to_csv('submission.csv', index = False)"
   ]
  },
  {
   "cell_type": "code",
   "execution_count": null,
   "metadata": {},
   "outputs": [],
   "source": []
  }
 ],
 "metadata": {
  "kernelspec": {
   "display_name": "Python 3",
   "language": "python",
   "name": "python3"
  },
  "language_info": {
   "codemirror_mode": {
    "name": "ipython",
    "version": 3
   },
   "file_extension": ".py",
   "mimetype": "text/x-python",
   "name": "python",
   "nbconvert_exporter": "python",
   "pygments_lexer": "ipython3",
   "version": "3.7.6"
  }
 },
 "nbformat": 4,
 "nbformat_minor": 4
}
