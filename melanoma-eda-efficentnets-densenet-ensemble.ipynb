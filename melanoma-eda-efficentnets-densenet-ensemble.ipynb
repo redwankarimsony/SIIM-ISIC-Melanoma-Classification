{
 "cells": [
  {
   "cell_type": "markdown",
   "execution_count": null,
   "metadata": {},
   "source": [
    "### This is just data visualization notebook. I will gradually update and publish this notebook over time. Your kind suggestion is highly appreciated.  If you find this insightful, please upvote it. Thanks. "
   ]
  },
  {
   "cell_type": "markdown",
   "execution_count": null,
   "metadata": {},
   "source": [
    "## Data Format\n",
    "The images are provided in DICOM format. This can be accessed using commonly-available libraries like **`pydicom`**, and contains both image and metadata. It is a commonly used medical imaging data format.\n",
    "\n",
    "Images are also provided in ** `JPEG`** and** `TFRecord`** format (in the jpeg and tfrecords directories, respectively). Images in **`TFRecord`** format have been resized to a uniform ** `1024x1024`**.\n",
    "\n",
    "Metadata is also provided outside of the DICOM format, in CSV files. See the Columns section for a description.\n",
    "\n",
    "## What to predict. \n",
    "We have to predict a binary target for each image. The model model should predict the probability (floating point) between 0.0 and 1.0 that the lesion in the image is malignant (the target). In the training data, `train.csv`, the **value 0 denotes benign, and 1 indicates malignant.**\n",
    "\n",
    "## Data Set Files\n",
    "The dataset consists of images in :\n",
    "* DICOM format in the directories `train` and `test`\n",
    "* JPEG format in JPEG directory\n",
    "* TFRecord format in tfrecords directory\n",
    "\n",
    "Additionally, there is a metadata comprising of train, test and submission file in CSV format.\n",
    "So the whole dataset looks like the following\n",
    "* **jpeg(dir)**\n",
    "    * test --> all the jpg images in testset\n",
    "    * train --> all the jpg images in training  set\n",
    "* ** test(dir)** --> all the test images in DICOM format\n",
    "* **tfrecords(dir)**  --> dataset converted into TFRecords\n",
    "* **train(dir)**  -->all the training images in DICOM format\n",
    "* **train.csv** --> the training set metadata\n",
    "* **test.csv**  -->the test set metadata\n",
    "* sample_submission.csv --> a sample submission file in the correct format\n"
   ]
  },
  {
   "cell_type": "markdown",
   "execution_count": null,
   "metadata": {},
   "source": [
    "## Evaluation Metrics\n",
    "The metric in evaluation for this competition is AUC, that for \"Area under the ROC Curve.\"\n",
    "So lets know about ROC Curve. \n",
    "### ROC curve\n",
    "An **ROC curve (receiver operating characteristic curve)** is a graph showing the performance of a classification model at all classification thresholds. Let us take the following confusion matrix. ![confusion_matrix](https://miro.medium.com/max/356/1*g5zpskPaxO8uSl0OWT4NTQ.png)\n",
    "This curve plots two parameters:\n",
    "* True Positive Rate\n",
    "* False Positive Rate\n",
    "**True Positive Rate (TPR)** is a synonym for recall and is therefore defined as follows:\n",
    "$$TPR = \\frac{TP}{(TP + FN)}$$\n",
    "\n",
    "**False Positive Rate (FPR)** is defined as follows:\n",
    "$$FPR =\\frac{ FP}{  (FP + TN)}$$\n",
    "\n",
    "**An ROC curve plots TPR vs. FPR at different classification thresholds**. Lowering the classification threshold classifies more items as positive, thus increasing both False Positives and True Positives. The following figure shows a typical ROC curve.\n",
    "![](https://imgur.com/N3UOcBF.png)\n",
    "\n",
    "## AUC: Area Under the ROC Curve\n",
    "**AUC** stands for **\"Area under the ROC Curve.\"**  That is, AUC measures the entire two-dimensional area underneath the entire ROC curve (think integral calculus) from (0,0) to (1,1).\n",
    "![auc](https://imgur.com/YE18DBT.jpg =280x)\n",
    "AUC provides an aggregate measure of performance across all possible classification thresholds. One way of interpreting AUC is as the probability that the model ranks a random positive example more highly than a random negative example.\n",
    "\n",
    "\n",
    "Source: [Classification: ROC Curve and AUC](https://developers.google.com/machine-learning/crash-course/classification/roc-and-auc)"
   ]
  },
  {
   "cell_type": "markdown",
   "execution_count": null,
   "metadata": {
    "_cell_guid": "b1076dfc-b9ad-4769-8c92-a6c4dae69d19",
    "_uuid": "8f2839f25d086af736a60e9eeb907d3b93b6e0e5"
   },
   "source": [
    "# 1. Loading Libraries"
   ]
  },
  {
   "cell_type": "code",
   "execution_count": 1,
   "metadata": {},
   "outputs": [
    {
     "name": "stdout",
     "output_type": "stream",
     "text": [
      "\u001b[33mWARNING: You are using pip version 20.1; however, version 20.1.1 is available.\r\n",
      "You should consider upgrading via the '/opt/conda/bin/python3.7 -m pip install --upgrade pip' command.\u001b[0m\r\n",
      "\u001b[33mWARNING: You are using pip version 20.1; however, version 20.1.1 is available.\r\n",
      "You should consider upgrading via the '/opt/conda/bin/python3.7 -m pip install --upgrade pip' command.\u001b[0m\r\n"
     ]
    }
   ],
   "source": [
    "!pip install -q efficientnet\n",
    "!pip install -q pyyaml h5py\n",
    "\n",
    "#basic libraries\n",
    "import os, re, math\n",
    "import numpy as np\n",
    "import pandas as pd\n",
    "\n",
    "#plot libraries\n",
    "import matplotlib.pyplot as plt\n",
    "import plotly.express as px\n",
    "\n",
    "#utilities library\n",
    "from sklearn import metrics\n",
    "from sklearn.model_selection import train_test_split\n",
    "\n",
    "#background library for learning \n",
    "import tensorflow as tf\n",
    "import tensorflow.keras.layers as Layers\n",
    "\n",
    "from kaggle_datasets import KaggleDatasets\n",
    "\n",
    "import efficientnet.tfkeras as efn\n",
    "\n"
   ]
  },
  {
   "cell_type": "code",
   "execution_count": 2,
   "metadata": {
    "_cell_guid": "79c7e3d0-c299-4dcb-8224-4455121ee9b0",
    "_uuid": "d629ff2d2480ee46fbb7e2d37f6b5fab8052498a"
   },
   "outputs": [],
   "source": [
    "train_df = pd.read_csv('/kaggle/input/siim-isic-melanoma-classification/train.csv')\n",
    "test_df = pd.read_csv('/kaggle/input/siim-isic-melanoma-classification/test.csv')\n",
    "sub = pd.read_csv('/kaggle/input/siim-isic-melanoma-classification/sample_submission.csv')"
   ]
  },
  {
   "cell_type": "markdown",
   "execution_count": null,
   "metadata": {},
   "source": [
    "# 2. Metadata Description\n",
    "### Columns of `train.csv`\n",
    "* image_name - unique identifier, points to filename of related DICOM image\n",
    "* patient_id - unique patient identifier\n",
    "* sex - the sex of the patient (when unknown, will be blank)\n",
    "* age_approx - approximate patient age at time of imaging\n",
    "* anatom_site_general_challenge - location of imaged site\n",
    "* diagnosis - detailed diagnosis information (train only)\n",
    "* benign_malignant - indicator of malignancy of imaged lesion\n",
    "* target - binarized version of the target variable"
   ]
  },
  {
   "cell_type": "code",
   "execution_count": 3,
   "metadata": {},
   "outputs": [
    {
     "name": "stdout",
     "output_type": "stream",
     "text": [
      "No of samples:  33126\n",
      "No of patients: 2056\n"
     ]
    }
   ],
   "source": [
    "print('No of samples:  ' + str(train_df.image_name.nunique()))\n",
    "print('No of patients: ' + str(train_df.patient_id.nunique()))"
   ]
  },
  {
   "cell_type": "markdown",
   "execution_count": null,
   "metadata": {},
   "source": [
    "### No of samples taken from patients frequency\n",
    "Observing the number of patients and no of total samples,I came to the follwoing insights. \n",
    "\n",
    "* All the patients gave at least 2 samples.\n",
    "* Maximum no of sample taken from a single patient is 115.\n",
    "* On an average each patient gave 16 samples\n",
    "* Median of samples of image per patient is 12\n",
    "* Mode of samples of image per patient is 2"
   ]
  },
  {
   "cell_type": "code",
   "execution_count": 4,
   "metadata": {},
   "outputs": [
    {
     "data": {
      "image/png": "[encoded data removed]",
      "text/plain": [
       "<Figure size 432x288 with 1 Axes>"
      ]
     },
     "metadata": {
      "needs_background": "light"
     },
     "output_type": "display_data"
    },
    {
     "name": "stdout",
     "output_type": "stream",
     "text": [
      "Minimum no of sample taken from  single patient 2\n",
      "Maximum no of sample taken from  single patient 115\n",
      "There are  16  samples taken from each patients on average\n",
      "Median of no. of samples taken from  single patient 12\n",
      "Mode of no. of samples taken from  single patient 3\n"
     ]
    }
   ],
   "source": [
    "image_freq_per_patient = train_df.groupby(['patient_id']).count()['image_name']\n",
    "plt.hist(image_freq_per_patient.tolist(), bins = image_freq_per_patient.nunique())\n",
    "plt.xlabel('No of samples per patient')\n",
    "plt.ylabel('No of patients')\n",
    "plt.show()\n",
    "print('Minimum no of sample taken from  single patient', image_freq_per_patient.min())\n",
    "print('Maximum no of sample taken from  single patient', image_freq_per_patient.max())\n",
    "print('There are ',int( image_freq_per_patient.mean()), ' samples taken from each patients on average')\n",
    "print('Median of no. of samples taken from  single patient', int(image_freq_per_patient.median()))\n",
    "print('Mode of no. of samples taken from  single patient', int(image_freq_per_patient.mode()))\n"
   ]
  },
  {
   "cell_type": "code",
   "execution_count": 5,
   "metadata": {},
   "outputs": [
    {
     "data": {
      "image/png": "[encoded data removed]",
      "text/plain": [
       "<Figure size 432x288 with 1 Axes>"
      ]
     },
     "metadata": {
      "needs_background": "light"
     },
     "output_type": "display_data"
    },
    {
     "data": {
      "text/plain": [
       "sex\n",
       "female    15981\n",
       "male      17080\n",
       "Name: image_name, dtype: int64"
      ]
     },
     "execution_count": 5,
     "metadata": {},
     "output_type": "execute_result"
    }
   ],
   "source": [
    "sex_count = train_df.groupby(['sex']).count()['image_name']\n",
    "fig = plt.figure()\n",
    "ax = fig.add_axes([0,0,1,1])\n",
    "ax.bar(['Female', 'Male'], sex_count)\n",
    "plt.ylabel('count')\n",
    "plt.show()\n",
    "sex_count"
   ]
  },
  {
   "cell_type": "code",
   "execution_count": 6,
   "metadata": {},
   "outputs": [
    {
     "data": {
      "image/png": "[encoded data removed]",
      "text/plain": [
       "<Figure size 432x288 with 1 Axes>"
      ]
     },
     "metadata": {
      "needs_background": "light"
     },
     "output_type": "display_data"
    }
   ],
   "source": [
    "category_sex = train_df.groupby(['sex', 'benign_malignant']).nunique()['patient_id'].tolist()\n",
    "\n",
    "labels = ['Benign', 'Malignant']\n",
    "benign_data = category_sex[0:2]\n",
    "maglignant_data = category_sex[2:4]\n",
    "x = np.arange(len(labels))  # the label locations\n",
    "width = 0.35  # the width of the bars\n",
    "\n",
    "fig, ax = plt.subplots()\n",
    "rects1 = ax.bar(x - width/2, benign_data, width, label='Male')\n",
    "rects2 = ax.bar(x + width/2, maglignant_data, width, label='Female')\n",
    "ax.set_ylabel('No of patients')\n",
    "ax.set_title('Patient Count by Benign and Malignant with Sex')\n",
    "ax.set_xticks(x)\n",
    "ax.set_xticklabels(labels)\n",
    "ax.legend()\n",
    "\n",
    "def autolabel(rects):\n",
    "    \"\"\"Attach a text label above each bar in *rects*, displaying its height.\"\"\"\n",
    "    for rect in rects:\n",
    "        height = rect.get_height()\n",
    "        ax.annotate('{}'.format(height),\n",
    "                    xy=(rect.get_x() + rect.get_width() / 2, height),\n",
    "                    xytext=(0, 3),  # 3 points vertical offset\n",
    "                    textcoords=\"offset points\",\n",
    "                    ha='center', va='bottom')\n",
    "        \n",
    "autolabel(rects1)\n",
    "autolabel(rects2)\n",
    "\n",
    "fig.tight_layout()\n",
    "plt.show()"
   ]
  },
  {
   "cell_type": "markdown",
   "execution_count": null,
   "metadata": {},
   "source": [
    "Here we observe that among the unique patients providing samples, \n",
    "* **Melanoma is more prevalant in Women** \n",
    "* **Among the Male patients, almost 24% are at malignant stage**\n",
    "* **On the other hand, among Femele patients, about 17% are at malignant stage**"
   ]
  },
  {
   "cell_type": "code",
   "execution_count": 7,
   "metadata": {},
   "outputs": [
    {
     "data": {
      "text/plain": [
       "benign_malignant  sex   \n",
       "benign            female     977\n",
       "                  male      1076\n",
       "malignant         female     168\n",
       "                  male       260\n",
       "Name: patient_id, dtype: int64"
      ]
     },
     "execution_count": 7,
     "metadata": {},
     "output_type": "execute_result"
    }
   ],
   "source": [
    "train_df.groupby(['benign_malignant', 'sex']).nunique()['patient_id']"
   ]
  },
  {
   "cell_type": "code",
   "execution_count": 8,
   "metadata": {},
   "outputs": [
    {
     "data": {
      "image/png": "[encoded data removed]",
      "text/plain": [
       "<Figure size 432x288 with 1 Axes>"
      ]
     },
     "metadata": {
      "needs_background": "light"
     },
     "output_type": "display_data"
    }
   ],
   "source": [
    "plt.figure()\n",
    "train_df.groupby(['benign_malignant']).mean()['age_approx'].plot.bar(x = 'Diagnosis Type', y = 'Average age', rot = 0)\n",
    "plt.title('Benign/Malignant vs Average Age')\n",
    "plt.xlabel('Diagnosis Outcome')\n",
    "plt.ylabel('Average Approx. Age')\n",
    "plt.show()"
   ]
  },
  {
   "cell_type": "markdown",
   "execution_count": null,
   "metadata": {},
   "source": [
    "Here we see that comparatively malignant patients are of higher age and their average age is almost 57 years whereas average age of the benign patients is close to 50. "
   ]
  },
  {
   "cell_type": "code",
   "execution_count": 9,
   "metadata": {},
   "outputs": [
    {
     "data": {
      "image/png": "[encoded data removed]",
      "text/plain": [
       "<Figure size 720x432 with 1 Axes>"
      ]
     },
     "metadata": {
      "needs_background": "light"
     },
     "output_type": "display_data"
    }
   ],
   "source": [
    "site_vs_diagnosis = train_df.groupby(['anatom_site_general_challenge', 'benign_malignant']).count()['patient_id'].tolist()\n",
    "labels = ['head/neck', 'lower extremity', 'oral/genital','palms/soles', 'torso', 'upper extremity']\n",
    "benign_data = site_vs_diagnosis[0:12:2]\n",
    "maglignant_data = site_vs_diagnosis[1:12:2]\n",
    "x = np.arange(len(labels))  # the label locations\n",
    "width = 0.35  # the width of the bars\n",
    "\n",
    "fig, ax = plt.subplots(figsize = (10,6))\n",
    "rects1 = ax.bar(x - width/2, benign_data, width, label='Benign')\n",
    "rects2 = ax.bar(x + width/2, maglignant_data, width, label='Malignant')\n",
    "ax.set_ylabel('No of samples')\n",
    "ax.set_xlabel('Anatomical Sites')\n",
    "ax.set_title('Patient Count by Benign and Malignant with Anatomical Location')\n",
    "ax.set_xticks(x)\n",
    "ax.set_xticklabels(labels)\n",
    "ax.legend()\n",
    "\n",
    "def autolabel(rects):\n",
    "    \"\"\"Attach a text label above each bar in *rects*, displaying its height.\"\"\"\n",
    "    for rect in rects:\n",
    "        height = rect.get_height()\n",
    "        ax.annotate('{}'.format(height),\n",
    "                    xy=(rect.get_x() + rect.get_width() / 2, height),\n",
    "                    xytext=(0, 3),  # 3 points vertical offset\n",
    "                    textcoords=\"offset points\",\n",
    "                    ha='center', va='bottom')\n",
    "        \n",
    "autolabel(rects1)\n",
    "autolabel(rects2)\n",
    "\n",
    "fig.tight_layout()\n",
    "plt.show()\n"
   ]
  },
  {
   "cell_type": "markdown",
   "execution_count": null,
   "metadata": {},
   "source": [
    "**So the above graph says that oral/genital and palms/soles are least likely to develop Melanoma disease whereas most of the time torso develops melanoma**\n"
   ]
  },
  {
   "cell_type": "markdown",
   "execution_count": null,
   "metadata": {},
   "source": [
    "# 4. TPU Setup Code"
   ]
  },
  {
   "cell_type": "code",
   "execution_count": 10,
   "metadata": {},
   "outputs": [
    {
     "name": "stdout",
     "output_type": "stream",
     "text": [
      "Running on TPU  grpc://10.0.0.2:8470\n",
      "REPLICAS:  8\n"
     ]
    }
   ],
   "source": [
    "try:\n",
    "    # TPU detection. No parameters necessary if TPU_NAME environment variable is\n",
    "    # set: this is always the case on Kaggle.\n",
    "    tpu = tf.distribute.cluster_resolver.TPUClusterResolver()\n",
    "    print('Running on TPU ', tpu.master())\n",
    "except ValueError:\n",
    "    tpu = None\n",
    "\n",
    "if tpu:\n",
    "    tf.config.experimental_connect_to_cluster(tpu)\n",
    "    tf.tpu.experimental.initialize_tpu_system(tpu)\n",
    "    strategy = tf.distribute.experimental.TPUStrategy(tpu)\n",
    "else:\n",
    "    # Default distribution strategy in Tensorflow. Works on CPU and single GPU.\n",
    "    strategy = tf.distribute.get_strategy()\n",
    "\n",
    "print(\"REPLICAS: \", strategy.num_replicas_in_sync)"
   ]
  },
  {
   "cell_type": "markdown",
   "execution_count": null,
   "metadata": {},
   "source": [
    "# 5. Setting up Running Configuration "
   ]
  },
  {
   "cell_type": "code",
   "execution_count": 11,
   "metadata": {},
   "outputs": [
    {
     "name": "stdout",
     "output_type": "stream",
     "text": [
      "Training filenames\n",
      " ['gs://kds-0b2c68d2b2fa4692fcffc1029c606b32dd6a88de8d6da08fcd30d0c4/tfrecords/train00-2071.tfrec', 'gs://kds-0b2c68d2b2fa4692fcffc1029c606b32dd6a88de8d6da08fcd30d0c4/tfrecords/train01-2071.tfrec', 'gs://kds-0b2c68d2b2fa4692fcffc1029c606b32dd6a88de8d6da08fcd30d0c4/tfrecords/train02-2071.tfrec', 'gs://kds-0b2c68d2b2fa4692fcffc1029c606b32dd6a88de8d6da08fcd30d0c4/tfrecords/train03-2071.tfrec', 'gs://kds-0b2c68d2b2fa4692fcffc1029c606b32dd6a88de8d6da08fcd30d0c4/tfrecords/train04-2071.tfrec', 'gs://kds-0b2c68d2b2fa4692fcffc1029c606b32dd6a88de8d6da08fcd30d0c4/tfrecords/train05-2071.tfrec', 'gs://kds-0b2c68d2b2fa4692fcffc1029c606b32dd6a88de8d6da08fcd30d0c4/tfrecords/train06-2071.tfrec', 'gs://kds-0b2c68d2b2fa4692fcffc1029c606b32dd6a88de8d6da08fcd30d0c4/tfrecords/train07-2071.tfrec', 'gs://kds-0b2c68d2b2fa4692fcffc1029c606b32dd6a88de8d6da08fcd30d0c4/tfrecords/train08-2071.tfrec', 'gs://kds-0b2c68d2b2fa4692fcffc1029c606b32dd6a88de8d6da08fcd30d0c4/tfrecords/train09-2071.tfrec', 'gs://kds-0b2c68d2b2fa4692fcffc1029c606b32dd6a88de8d6da08fcd30d0c4/tfrecords/train10-2071.tfrec', 'gs://kds-0b2c68d2b2fa4692fcffc1029c606b32dd6a88de8d6da08fcd30d0c4/tfrecords/train11-2071.tfrec', 'gs://kds-0b2c68d2b2fa4692fcffc1029c606b32dd6a88de8d6da08fcd30d0c4/tfrecords/train12-2071.tfrec', 'gs://kds-0b2c68d2b2fa4692fcffc1029c606b32dd6a88de8d6da08fcd30d0c4/tfrecords/train13-2071.tfrec', 'gs://kds-0b2c68d2b2fa4692fcffc1029c606b32dd6a88de8d6da08fcd30d0c4/tfrecords/train14-2071.tfrec', 'gs://kds-0b2c68d2b2fa4692fcffc1029c606b32dd6a88de8d6da08fcd30d0c4/tfrecords/train15-2061.tfrec']\n",
      "Test file names\n",
      " ['gs://kds-0b2c68d2b2fa4692fcffc1029c606b32dd6a88de8d6da08fcd30d0c4/tfrecords/test00-687.tfrec', 'gs://kds-0b2c68d2b2fa4692fcffc1029c606b32dd6a88de8d6da08fcd30d0c4/tfrecords/test01-687.tfrec', 'gs://kds-0b2c68d2b2fa4692fcffc1029c606b32dd6a88de8d6da08fcd30d0c4/tfrecords/test02-687.tfrec', 'gs://kds-0b2c68d2b2fa4692fcffc1029c606b32dd6a88de8d6da08fcd30d0c4/tfrecords/test03-687.tfrec', 'gs://kds-0b2c68d2b2fa4692fcffc1029c606b32dd6a88de8d6da08fcd30d0c4/tfrecords/test04-687.tfrec', 'gs://kds-0b2c68d2b2fa4692fcffc1029c606b32dd6a88de8d6da08fcd30d0c4/tfrecords/test05-687.tfrec', 'gs://kds-0b2c68d2b2fa4692fcffc1029c606b32dd6a88de8d6da08fcd30d0c4/tfrecords/test06-687.tfrec', 'gs://kds-0b2c68d2b2fa4692fcffc1029c606b32dd6a88de8d6da08fcd30d0c4/tfrecords/test07-687.tfrec', 'gs://kds-0b2c68d2b2fa4692fcffc1029c606b32dd6a88de8d6da08fcd30d0c4/tfrecords/test08-687.tfrec', 'gs://kds-0b2c68d2b2fa4692fcffc1029c606b32dd6a88de8d6da08fcd30d0c4/tfrecords/test09-687.tfrec', 'gs://kds-0b2c68d2b2fa4692fcffc1029c606b32dd6a88de8d6da08fcd30d0c4/tfrecords/test10-687.tfrec', 'gs://kds-0b2c68d2b2fa4692fcffc1029c606b32dd6a88de8d6da08fcd30d0c4/tfrecords/test11-687.tfrec', 'gs://kds-0b2c68d2b2fa4692fcffc1029c606b32dd6a88de8d6da08fcd30d0c4/tfrecords/test12-687.tfrec', 'gs://kds-0b2c68d2b2fa4692fcffc1029c606b32dd6a88de8d6da08fcd30d0c4/tfrecords/test13-687.tfrec', 'gs://kds-0b2c68d2b2fa4692fcffc1029c606b32dd6a88de8d6da08fcd30d0c4/tfrecords/test14-687.tfrec', 'gs://kds-0b2c68d2b2fa4692fcffc1029c606b32dd6a88de8d6da08fcd30d0c4/tfrecords/test15-677.tfrec']\n"
     ]
    }
   ],
   "source": [
    "# For tf.dataset Tensorflow tf. data AUTOTUNE. ... prefetch transformation, \n",
    "# which can be used to decouple the time when data is produced from the time when data is consumed. \n",
    "# In particular, the transformation uses a background thread and an internal buffer to prefetch \n",
    "# elements from the input dataset ahead of the time they are requested.\n",
    "AUTO = tf.data.experimental.AUTOTUNE\n",
    "\n",
    "# Get data access to the dataset for TPUs\n",
    "GCS_PATH = KaggleDatasets().get_gcs_path('siim-isic-melanoma-classification')\n",
    "\n",
    "# Running Configuration \n",
    "EPOCHS = 15\n",
    "BATCH_SIZE = 8 * strategy.num_replicas_in_sync\n",
    "IMAGE_SIZE = [1024, 1024]\n",
    "\n",
    "# Listing the filenames in TFRecords fomat\n",
    "TRAINING_FILENAMES = tf.io.gfile.glob(GCS_PATH + '/tfrecords/train*.tfrec')\n",
    "TEST_FILENAMES = tf.io.gfile.glob(GCS_PATH + '/tfrecords/test*.tfrec')\n",
    "CLASSES = [0,1]\n",
    "print('Training filenames\\n', TRAINING_FILENAMES)\n",
    "print('Test file names\\n', TEST_FILENAMES)"
   ]
  },
  {
   "cell_type": "markdown",
   "execution_count": null,
   "metadata": {},
   "source": [
    "# 6. Training Validation Split"
   ]
  },
  {
   "cell_type": "code",
   "execution_count": 12,
   "metadata": {},
   "outputs": [
    {
     "name": "stdout",
     "output_type": "stream",
     "text": [
      "['gs://kds-0b2c68d2b2fa4692fcffc1029c606b32dd6a88de8d6da08fcd30d0c4/tfrecords/train03-2071.tfrec', 'gs://kds-0b2c68d2b2fa4692fcffc1029c606b32dd6a88de8d6da08fcd30d0c4/tfrecords/train04-2071.tfrec', 'gs://kds-0b2c68d2b2fa4692fcffc1029c606b32dd6a88de8d6da08fcd30d0c4/tfrecords/train05-2071.tfrec', 'gs://kds-0b2c68d2b2fa4692fcffc1029c606b32dd6a88de8d6da08fcd30d0c4/tfrecords/train06-2071.tfrec', 'gs://kds-0b2c68d2b2fa4692fcffc1029c606b32dd6a88de8d6da08fcd30d0c4/tfrecords/train07-2071.tfrec', 'gs://kds-0b2c68d2b2fa4692fcffc1029c606b32dd6a88de8d6da08fcd30d0c4/tfrecords/train08-2071.tfrec', 'gs://kds-0b2c68d2b2fa4692fcffc1029c606b32dd6a88de8d6da08fcd30d0c4/tfrecords/train09-2071.tfrec', 'gs://kds-0b2c68d2b2fa4692fcffc1029c606b32dd6a88de8d6da08fcd30d0c4/tfrecords/train10-2071.tfrec', 'gs://kds-0b2c68d2b2fa4692fcffc1029c606b32dd6a88de8d6da08fcd30d0c4/tfrecords/train11-2071.tfrec', 'gs://kds-0b2c68d2b2fa4692fcffc1029c606b32dd6a88de8d6da08fcd30d0c4/tfrecords/train12-2071.tfrec', 'gs://kds-0b2c68d2b2fa4692fcffc1029c606b32dd6a88de8d6da08fcd30d0c4/tfrecords/train13-2071.tfrec', 'gs://kds-0b2c68d2b2fa4692fcffc1029c606b32dd6a88de8d6da08fcd30d0c4/tfrecords/train14-2071.tfrec', 'gs://kds-0b2c68d2b2fa4692fcffc1029c606b32dd6a88de8d6da08fcd30d0c4/tfrecords/train15-2061.tfrec']\n",
      "['gs://kds-0b2c68d2b2fa4692fcffc1029c606b32dd6a88de8d6da08fcd30d0c4/tfrecords/train00-2071.tfrec', 'gs://kds-0b2c68d2b2fa4692fcffc1029c606b32dd6a88de8d6da08fcd30d0c4/tfrecords/train01-2071.tfrec', 'gs://kds-0b2c68d2b2fa4692fcffc1029c606b32dd6a88de8d6da08fcd30d0c4/tfrecords/train02-2071.tfrec']\n"
     ]
    }
   ],
   "source": [
    "VALIDATION_FILENAMES =list(pd.Series(TRAINING_FILENAMES)[[0,1,2]])\n",
    "TRAINING_FILENAMES = list(pd.Series(TRAINING_FILENAMES)[[3,4,5,6,7,8,9,10,11,12,13,14,15]])\n",
    "print(TRAINING_FILENAMES)\n",
    "print(VALIDATION_FILENAMES)"
   ]
  },
  {
   "cell_type": "code",
   "execution_count": 13,
   "metadata": {},
   "outputs": [
    {
     "data": {
      "text/plain": [
       "<matplotlib.axes._subplots.AxesSubplot at 0x7fb0f91a6290>"
      ]
     },
     "execution_count": 13,
     "metadata": {},
     "output_type": "execute_result"
    },
    {
     "data": {
      "image/png": "[encoded data removed]",
      "text/plain": [
       "<Figure size 432x288 with 1 Axes>"
      ]
     },
     "metadata": {},
     "output_type": "display_data"
    }
   ],
   "source": [
    "import seaborn as sns\n",
    "sns.set(style=\"darkgrid\")\n",
    "sns.countplot(train_df['benign_malignant'])"
   ]
  },
  {
   "cell_type": "markdown",
   "execution_count": null,
   "metadata": {},
   "source": [
    "# 6. Helper Functions"
   ]
  },
  {
   "cell_type": "code",
   "execution_count": 14,
   "metadata": {},
   "outputs": [],
   "source": [
    "def decode_image(image_data):\n",
    "    image = tf.image.decode_jpeg(image_data, channels=3)\n",
    "    image = tf.cast(image, tf.float32) / 255.0  # convert image to floats in [0, 1] range\n",
    "    image = tf.reshape(image, [*IMAGE_SIZE, 3]) # explicit size needed for TPU\n",
    "    return image\n",
    "\n",
    "def read_labeled_tfrecord(example):\n",
    "    LABELED_TFREC_FORMAT = {\n",
    "        \"image\": tf.io.FixedLenFeature([], tf.string), # tf.string means bytestring\n",
    "        #\"class\": tf.io.FixedLenFeature([], tf.int64),  # shape [] means single element\n",
    "        \"target\": tf.io.FixedLenFeature([], tf.int64),  # shape [] means single element\n",
    "    }\n",
    "    example = tf.io.parse_single_example(example, LABELED_TFREC_FORMAT)\n",
    "    image = decode_image(example['image'])\n",
    "    #label = tf.cast(example['class'], tf.int32)\n",
    "    label = tf.cast(example['target'], tf.int32)\n",
    "    return image, label # returns a dataset of (image, label) pairs\n",
    "\n",
    "def read_unlabeled_tfrecord(example):\n",
    "    UNLABELED_TFREC_FORMAT = {\n",
    "        \"image\": tf.io.FixedLenFeature([], tf.string), # tf.string means bytestring\n",
    "        \"image_name\": tf.io.FixedLenFeature([], tf.string),  # shape [] means single element\n",
    "        # class is missing, this competitions's challenge is to predict flower classes for the test dataset\n",
    "    }\n",
    "    example = tf.io.parse_single_example(example, UNLABELED_TFREC_FORMAT)\n",
    "    image = decode_image(example['image'])\n",
    "    idnum = example['image_name']\n",
    "    return image, idnum # returns a dataset of image(s)\n",
    "\n",
    "def load_dataset(filenames, labeled=True, ordered=False):\n",
    "    # Read from TFRecords. For optimal performance, reading from multiple files at once and\n",
    "    # disregarding data order. Order does not matter since we will be shuffling the data anyway.\n",
    "\n",
    "    ignore_order = tf.data.Options()\n",
    "    if not ordered:\n",
    "        ignore_order.experimental_deterministic = False # disable order, increase speed\n",
    "\n",
    "    dataset = tf.data.TFRecordDataset(filenames, num_parallel_reads=AUTO) # automatically interleaves reads from multiple files\n",
    "    dataset = dataset.with_options(ignore_order) # uses data as soon as it streams in, rather than in its original order\n",
    "    dataset = dataset.map(read_labeled_tfrecord if labeled else read_unlabeled_tfrecord, num_parallel_calls=AUTO)\n",
    "    # returns a dataset of (image, label) pairs if labeled=True or (image, id) pairs if labeled=False\n",
    "    return dataset\n",
    "\n",
    "\n",
    "def get_training_dataset():\n",
    "    dataset = load_dataset(TRAINING_FILENAMES, labeled=True)\n",
    "    dataset = dataset.map(data_augment, num_parallel_calls=AUTO)\n",
    "    dataset = dataset.repeat() # the training dataset must repeat for several epochs\n",
    "    dataset = dataset.shuffle(2048)\n",
    "    dataset = dataset.batch(BATCH_SIZE)\n",
    "    dataset = dataset.prefetch(AUTO) # prefetch next batch while training (autotune prefetch buffer size)\n",
    "    return dataset\n",
    "\n",
    "def get_validation_dataset(ordered=False):\n",
    "    dataset = load_dataset(VALIDATION_FILENAMES, labeled=True, ordered=ordered)\n",
    "    dataset = dataset.batch(BATCH_SIZE)\n",
    "    dataset = dataset.cache()\n",
    "    dataset = dataset.prefetch(AUTO) # prefetch next batch while training (autotune prefetch buffer size)\n",
    "    return dataset\n",
    "\n",
    "def get_test_dataset(ordered=False):\n",
    "    dataset = load_dataset(TEST_FILENAMES, labeled=False, ordered=ordered)\n",
    "    dataset = dataset.batch(BATCH_SIZE)\n",
    "    dataset = dataset.prefetch(AUTO) # prefetch next batch while training (autotune prefetch buffer size)\n",
    "    return dataset\n",
    "\n",
    "def count_data_items(filenames):\n",
    "    # the number of data items is written in the name of the .tfrec files, i.e. flowers00-230.tfrec = 230 data items\n",
    "    n = [int(re.compile(r\"-([0-9]*)\\.\").search(filename).group(1)) for filename in filenames]\n",
    "    return np.sum(n)\n"
   ]
  },
  {
   "cell_type": "markdown",
   "execution_count": null,
   "metadata": {},
   "source": [
    "# 7. Data Augmentation "
   ]
  },
  {
   "cell_type": "code",
   "execution_count": 15,
   "metadata": {},
   "outputs": [],
   "source": [
    "def data_augment(image, label):\n",
    "    # data augmentation. Thanks to the dataset.prefetch(AUTO) statement in the next function (above),\n",
    "    # this happens essentially for free on TPU. Data pipeline code is executed on the \"CPU\" part\n",
    "    # of the TPU while the TPU itself is computing gradients.\n",
    "    image = tf.image.random_flip_left_right(image)\n",
    "#     image = tf.image.random_flip_up_down(image)\n",
    "    #image = tf.image.random_saturation(image, 0, 2)\n",
    "    return image, label   "
   ]
  },
  {
   "cell_type": "markdown",
   "execution_count": null,
   "metadata": {},
   "source": [
    "# 8. Data Sumamry"
   ]
  },
  {
   "cell_type": "code",
   "execution_count": 16,
   "metadata": {},
   "outputs": [
    {
     "name": "stdout",
     "output_type": "stream",
     "text": [
      "Dataset Details:\n",
      "26913 training images,  \n",
      "6213 validation images \n",
      "10982 unlabeled test images\n"
     ]
    },
    {
     "data": {
      "text/plain": [
       "<Figure size 432x288 with 0 Axes>"
      ]
     },
     "metadata": {},
     "output_type": "display_data"
    },
    {
     "data": {
      "image/png": "[encoded data removed]",
      "text/plain": [
       "<Figure size 432x288 with 1 Axes>"
      ]
     },
     "metadata": {},
     "output_type": "display_data"
    }
   ],
   "source": [
    "NUM_TRAINING_IMAGES = count_data_items(TRAINING_FILENAMES)\n",
    "NUM_TEST_IMAGES = count_data_items(TEST_FILENAMES)\n",
    "NUM_VALID_IMAGES = count_data_items(VALIDATION_FILENAMES)\n",
    "STEPS_PER_EPOCH = NUM_TRAINING_IMAGES // BATCH_SIZE\n",
    "\n",
    "print('Dataset Details:\\n{} training images,  \\n{} validation images \\n{} unlabeled test images'.format(NUM_TRAINING_IMAGES, NUM_VALID_IMAGES, NUM_TEST_IMAGES))\n",
    "\n",
    "\n",
    "df = pd.DataFrame({'data':['NUM_TRAINING_IMAGES', 'NUM_TEST_IMAGES'],\n",
    "                   'No of Samples':[NUM_TRAINING_IMAGES, NUM_TEST_IMAGES]})\n",
    "plt.figure()\n",
    "x = df.plot.bar(x='data', y='No of Samples', rot=0)\n",
    "plt.ylabel('No of Samples')\n",
    "plt.title('No of Training and Test Images')\n",
    "plt.show()"
   ]
  },
  {
   "cell_type": "markdown",
   "execution_count": null,
   "metadata": {},
   "source": [
    "# 9. Learning Rate Scheduler"
   ]
  },
  {
   "cell_type": "code",
   "execution_count": 17,
   "metadata": {},
   "outputs": [],
   "source": [
    "def build_lrfn(lr_start=0.000002, lr_max=0.00010, \n",
    "               lr_min=0, lr_rampup_epochs=8, \n",
    "               lr_sustain_epochs=1, lr_exp_decay=.8):\n",
    "\n",
    "    def lrfn(epoch):\n",
    "        if epoch < lr_rampup_epochs:\n",
    "            lr = (lr_max - lr_start) / lr_rampup_epochs * epoch + lr_start\n",
    "        elif epoch < lr_rampup_epochs + lr_sustain_epochs:\n",
    "            lr = lr_max\n",
    "        else:\n",
    "            lr = (lr_max - lr_min) *\\\n",
    "                 lr_exp_decay**(epoch - lr_rampup_epochs\\\n",
    "                                - lr_sustain_epochs) + lr_min\n",
    "        return lr\n",
    "    return lrfn\n",
    "\n",
    "lrfn = build_lrfn()\n",
    "lr_schedule = tf.keras.callbacks.LearningRateScheduler(lrfn, verbose=True)"
   ]
  },
  {
   "cell_type": "code",
   "execution_count": 18,
   "metadata": {},
   "outputs": [],
   "source": [
    "model_checkpoint_callback_efnB0 = tf.keras.callbacks.ModelCheckpoint(\n",
    "    filepath='model_efnB0_best_val_acc.hdf5',\n",
    "    save_weights_only=True,\n",
    "    monitor='val_accuracy',\n",
    "    mode='max',\n",
    "    save_best_only=True)\n",
    "\n",
    "model_checkpoint_callback_efnB1 = tf.keras.callbacks.ModelCheckpoint(\n",
    "    filepath='model_efnB1_best_val_acc.hdf5',\n",
    "    save_weights_only=True,\n",
    "    monitor='val_accuracy',\n",
    "    mode='max',\n",
    "    save_best_only=True)\n",
    "\n",
    "model_checkpoint_callback_efnB3 = tf.keras.callbacks.ModelCheckpoint(\n",
    "    filepath='model_efnB3_best_val_auc.hdf5',\n",
    "    save_weights_only=True,\n",
    "    monitor='val_auc',\n",
    "    mode='max',\n",
    "    save_best_only=True)"
   ]
  },
  {
   "cell_type": "markdown",
   "execution_count": null,
   "metadata": {},
   "source": [
    "# 10. Training Models"
   ]
  },
  {
   "cell_type": "markdown",
   "execution_count": null,
   "metadata": {},
   "source": [
    "## EfficentNetB5 "
   ]
  },
  {
   "cell_type": "code",
   "execution_count": 19,
   "metadata": {},
   "outputs": [],
   "source": [
    "# with strategy.scope():\n",
    "#     model0 = tf.keras.Sequential([\n",
    "#         efn.EfficientNetB5(\n",
    "#             input_shape=(*IMAGE_SIZE, 3),\n",
    "#             #weights='noisy-student',\n",
    "#             weights='imagenet',\n",
    "#             include_top=False\n",
    "#         ),\n",
    "#         Layers.GlobalAveragePooling2D(),\n",
    "#         Layers.Dense(1024, activation = 'relu'), \n",
    "#         Layers.Dropout(0.3), \n",
    "#         Layers.Dense(512, activation= 'relu'), \n",
    "#         Layers.Dropout(0.2), \n",
    "#         Layers.Dense(256, activation='relu'), \n",
    "#         Layers.Dropout(0.2), \n",
    "#         Layers.Dense(128, activation='relu'), \n",
    "#         Layers.Dropout(0.1), \n",
    "#         Layers.Dense(1, activation='sigmoid')\n",
    "#     ])\n",
    "    \n",
    "# model0.compile(\n",
    "#     optimizer='adam',\n",
    "#     loss = tf.keras.losses.BinaryCrossentropy(label_smoothing = 0.1),\n",
    "#     metrics=['binary_crossentropy']\n",
    "# )\n",
    "# model0.summary()"
   ]
  },
  {
   "cell_type": "markdown",
   "execution_count": null,
   "metadata": {},
   "source": [
    "## EfficentNetB7"
   ]
  },
  {
   "cell_type": "code",
   "execution_count": 20,
   "metadata": {},
   "outputs": [],
   "source": [
    "# with strategy.scope():\n",
    "#     model1 = tf.keras.Sequential([\n",
    "#         efn.EfficientNetB7(\n",
    "#             input_shape=(*IMAGE_SIZE, 3),\n",
    "#             weights='imagenet',\n",
    "#             include_top=False\n",
    "#         ),\n",
    "#         Layers.GlobalAveragePooling2D(),\n",
    "#         Layers.Dense(1, activation='sigmoid')\n",
    "#     ])\n",
    "#     model1.compile(\n",
    "#         optimizer='adam',\n",
    "#         loss = 'binary_crossentropy',\n",
    "#         metrics=['accuracy']\n",
    "#     )\n",
    "#     model1.summary()\n",
    "    "
   ]
  },
  {
   "cell_type": "markdown",
   "execution_count": null,
   "metadata": {},
   "source": [
    "## EfficentNetB0"
   ]
  },
  {
   "cell_type": "code",
   "execution_count": 21,
   "metadata": {},
   "outputs": [
    {
     "name": "stdout",
     "output_type": "stream",
     "text": [
      "Downloading data from https://github.com/Callidior/keras-applications/releases/download/efficientnet/efficientnet-b0_weights_tf_dim_ordering_tf_kernels_autoaugment_notop.h5\n",
      "16809984/16804768 [==============================] - 1s 0us/step\n",
      "Model: \"sequential\"\n",
      "_________________________________________________________________\n",
      "Layer (type)                 Output Shape              Param #   \n",
      "=================================================================\n",
      "efficientnet-b0 (Model)      (None, 32, 32, 1280)      4049564   \n",
      "_________________________________________________________________\n",
      "global_average_pooling2d (Gl (None, 1280)              0         \n",
      "_________________________________________________________________\n",
      "dense (Dense)                (None, 1)                 1281      \n",
      "=================================================================\n",
      "Total params: 4,050,845\n",
      "Trainable params: 4,008,829\n",
      "Non-trainable params: 42,016\n",
      "_________________________________________________________________\n"
     ]
    }
   ],
   "source": [
    "with strategy.scope():\n",
    "    model_efn_b0 = tf.keras.Sequential([\n",
    "        efn.EfficientNetB0(\n",
    "            input_shape=(*IMAGE_SIZE, 3),\n",
    "            weights='imagenet',\n",
    "            include_top=False\n",
    "        ),\n",
    "        Layers.GlobalAveragePooling2D(),\n",
    "        Layers.Dense(1, activation='sigmoid')\n",
    "    ])\n",
    "    model_efn_b0.compile(\n",
    "        optimizer='adam',\n",
    "        loss = 'binary_crossentropy',\n",
    "        metrics=['accuracy']\n",
    "    )\n",
    "    model_efn_b0.summary()"
   ]
  },
  {
   "cell_type": "markdown",
   "execution_count": null,
   "metadata": {},
   "source": [
    "# EfficentNetB1"
   ]
  },
  {
   "cell_type": "code",
   "execution_count": 22,
   "metadata": {},
   "outputs": [],
   "source": [
    "# with strategy.scope():\n",
    "#     model_efn_b1 = tf.keras.Sequential([\n",
    "#         efn.EfficientNetB1(\n",
    "#             input_shape=(*IMAGE_SIZE, 3),\n",
    "#             weights='imagenet',\n",
    "#             include_top=False\n",
    "#         ),\n",
    "#         Layers.GlobalAveragePooling2D(),\n",
    "#         Layers.Dense(1, activation='sigmoid')\n",
    "#     ])\n",
    "#     model_efn_b1.compile(\n",
    "#         optimizer='adam',\n",
    "#         loss = 'binary_crossentropy',\n",
    "#         metrics=['accuracy']\n",
    "#     )\n",
    "#     model_efn_b1.summary()"
   ]
  },
  {
   "cell_type": "markdown",
   "execution_count": null,
   "metadata": {},
   "source": [
    "# EfficentNetB3"
   ]
  },
  {
   "cell_type": "code",
   "execution_count": 23,
   "metadata": {},
   "outputs": [],
   "source": [
    "# with strategy.scope():\n",
    "#     model_efn_b3 = tf.keras.Sequential([\n",
    "#         efn.EfficientNetB3(\n",
    "#             input_shape=(*IMAGE_SIZE, 3),\n",
    "#             #weights='imagenet',\n",
    "#             weights='imagenet',\n",
    "#             include_top=False\n",
    "#         ),\n",
    "#         Layers.GlobalAveragePooling2D(),\n",
    "#         Layers.Dense(512, activation='relu'),\n",
    "#         Layers.Dense(128, activation='relu'),\n",
    "#         Layers.Dense(1, activation='sigmoid')\n",
    "#     ])\n",
    "    \n",
    "# model_efn_b3.compile(\n",
    "#     optimizer='adam',\n",
    "#     loss = 'binary_crossentropy',\n",
    "#     metrics=['accuracy', tf.keras.metrics.AUC()]\n",
    "# )\n",
    "# model_efn_b3.summary()"
   ]
  },
  {
   "cell_type": "markdown",
   "execution_count": null,
   "metadata": {},
   "source": [
    "## DenseNet201"
   ]
  },
  {
   "cell_type": "code",
   "execution_count": 24,
   "metadata": {},
   "outputs": [],
   "source": [
    "# from tensorflow.keras.applications import DenseNet201\n",
    "# with strategy.scope():\n",
    "#     dnet201 = DenseNet201(\n",
    "#         input_shape=(*IMAGE_SIZE, 3),\n",
    "#         weights='imagenet',\n",
    "#         include_top=False\n",
    "#     )\n",
    "#     dnet201.trainable = True\n",
    "\n",
    "#     model3 = tf.keras.Sequential([\n",
    "#         dnet201,\n",
    "#         Layers.GlobalAveragePooling2D(),\n",
    "#         Layers.Dense(1, activation='sigmoid')\n",
    "#     ])\n",
    "#     model3.compile(\n",
    "#         optimizer='adam',\n",
    "#         loss = 'binary_crossentropy',\n",
    "#         metrics=['accuracy']\n",
    "#     )\n",
    "# model3.summary()"
   ]
  },
  {
   "cell_type": "code",
   "execution_count": 25,
   "metadata": {},
   "outputs": [],
   "source": [
    "# history = model1.fit(\n",
    "#     get_training_dataset(), \n",
    "#     epochs=2, \n",
    "#     callbacks=[lr_schedule],\n",
    "#     steps_per_epoch=NUM_TRAINING_IMAGES // BATCH_SIZE\n",
    "#     #validation_data=valid_dataset\n",
    "# )"
   ]
  },
  {
   "cell_type": "code",
   "execution_count": 26,
   "metadata": {},
   "outputs": [],
   "source": [
    "# tf.tpu.experimental.initialize_tpu_system(tpu)"
   ]
  },
  {
   "cell_type": "code",
   "execution_count": 27,
   "metadata": {},
   "outputs": [],
   "source": [
    "\n",
    "model_efn_b0.load_weights('/kaggle/input/melanoma-pretrained/model_efnB0_best_val_acc(just_5_epoch_895).hdf5')\n",
    "# history_efn_b0 = model_efn_b0.fit(\n",
    "#     get_training_dataset(), \n",
    "#     epochs=5, \n",
    "#     callbacks=[lr_schedule, model_checkpoint_callback_efnB0],\n",
    "#     steps_per_epoch=NUM_TRAINING_IMAGES // BATCH_SIZE,\n",
    "#     validation_data=get_validation_dataset()\n",
    "# )"
   ]
  },
  {
   "cell_type": "code",
   "execution_count": 28,
   "metadata": {},
   "outputs": [],
   "source": [
    "# model_efn_b0.load_weights('/kaggle/working/model_efnB0_best_val_acc.hdf5')"
   ]
  },
  {
   "cell_type": "code",
   "execution_count": 29,
   "metadata": {},
   "outputs": [],
   "source": [
    "# history_efn_b1 = model_efn_b1.fit(\n",
    "#     get_training_dataset(), \n",
    "#     epochs=5, \n",
    "#     callbacks=[lr_schedule, model_checkpoint_callback_efnB1],\n",
    "#     steps_per_epoch=NUM_TRAINING_IMAGES // BATCH_SIZE,\n",
    "#     validation_data=get_validation_dataset()\n",
    "# )"
   ]
  },
  {
   "cell_type": "code",
   "execution_count": 30,
   "metadata": {},
   "outputs": [],
   "source": [
    "# model_efn_b1.load_weights('/kaggle/working/model_efnB1_best_val_acc.hdf5')"
   ]
  },
  {
   "cell_type": "code",
   "execution_count": 31,
   "metadata": {},
   "outputs": [],
   "source": [
    "# history_efn_b3 = model_efn_b3.fit(\n",
    "#     get_training_dataset(), \n",
    "#     epochs=EPOCHS, \n",
    "#     callbacks=[lr_schedule, model_checkpoint_callback_efnB3],\n",
    "#     steps_per_epoch=NUM_TRAINING_IMAGES // BATCH_SIZE,\n",
    "#     validation_data=get_validation_dataset()\n",
    "# )"
   ]
  },
  {
   "cell_type": "code",
   "execution_count": 32,
   "metadata": {},
   "outputs": [],
   "source": [
    "# model_efn_b3.load_weights('/kaggle/working/model_efnB3_best_val_auc.hdf5')"
   ]
  },
  {
   "cell_type": "markdown",
   "execution_count": null,
   "metadata": {},
   "source": [
    "# 11. Prediction and Submission Generation"
   ]
  },
  {
   "cell_type": "code",
   "execution_count": 33,
   "metadata": {},
   "outputs": [
    {
     "name": "stdout",
     "output_type": "stream",
     "text": [
      "Computing predictions...\n",
      "Generating submission.csv file...\n"
     ]
    },
    {
     "data": {
      "text/html": [
       "<div>\n",
       "<style scoped>\n",
       "    .dataframe tbody tr th:only-of-type {\n",
       "        vertical-align: middle;\n",
       "    }\n",
       "\n",
       "    .dataframe tbody tr th {\n",
       "        vertical-align: top;\n",
       "    }\n",
       "\n",
       "    .dataframe thead th {\n",
       "        text-align: right;\n",
       "    }\n",
       "</style>\n",
       "<table border=\"1\" class=\"dataframe\">\n",
       "  <thead>\n",
       "    <tr style=\"text-align: right;\">\n",
       "      <th></th>\n",
       "      <th>image_name</th>\n",
       "      <th>target</th>\n",
       "    </tr>\n",
       "  </thead>\n",
       "  <tbody>\n",
       "    <tr>\n",
       "      <th>0</th>\n",
       "      <td>ISIC_0052060</td>\n",
       "      <td>0.009566</td>\n",
       "    </tr>\n",
       "    <tr>\n",
       "      <th>1</th>\n",
       "      <td>ISIC_0052349</td>\n",
       "      <td>0.000166</td>\n",
       "    </tr>\n",
       "    <tr>\n",
       "      <th>2</th>\n",
       "      <td>ISIC_0058510</td>\n",
       "      <td>0.000350</td>\n",
       "    </tr>\n",
       "    <tr>\n",
       "      <th>3</th>\n",
       "      <td>ISIC_0073313</td>\n",
       "      <td>0.000111</td>\n",
       "    </tr>\n",
       "    <tr>\n",
       "      <th>4</th>\n",
       "      <td>ISIC_0073502</td>\n",
       "      <td>0.047736</td>\n",
       "    </tr>\n",
       "  </tbody>\n",
       "</table>\n",
       "</div>"
      ],
      "text/plain": [
       "     image_name    target\n",
       "0  ISIC_0052060  0.009566\n",
       "1  ISIC_0052349  0.000166\n",
       "2  ISIC_0058510  0.000350\n",
       "3  ISIC_0073313  0.000111\n",
       "4  ISIC_0073502  0.047736"
      ]
     },
     "execution_count": 33,
     "metadata": {},
     "output_type": "execute_result"
    }
   ],
   "source": [
    "test_ds = get_test_dataset(ordered=True)\n",
    "\n",
    "print('Computing predictions...')\n",
    "test_images_ds = test_ds.map(lambda image, idnum: image)\n",
    "probabilities = model_efn_b0.predict(test_images_ds)\n",
    "\n",
    "\n",
    "print('Generating submission.csv file...')\n",
    "test_ids_ds = test_ds.map(lambda image, idnum: idnum).unbatch()\n",
    "test_ids = next(iter(test_ids_ds.batch(NUM_TEST_IMAGES))).numpy().astype('U') # all in one batch\n",
    "\n",
    "pred_df = pd.DataFrame({'image_name': test_ids, 'target': np.concatenate(probabilities)})\n",
    "pred_df.head()\n",
    "\n",
    "\n",
    "del sub['target']\n",
    "sub = sub.merge(pred_df, on='image_name')\n",
    "sub.to_csv('submission_label_smoothing.csv', index=False)\n",
    "sub.to_csv('submission.csv', index=False)\n",
    "sub.head()"
   ]
  }
 ],
 "metadata": {
  "kernelspec": {
   "display_name": "Python 3",
   "language": "python",
   "name": "python3"
  },
  "language_info": {
   "codemirror_mode": {
    "name": "ipython",
    "version": 3
   },
   "file_extension": ".py",
   "mimetype": "text/x-python",
   "name": "python",
   "nbconvert_exporter": "python",
   "pygments_lexer": "ipython3",
   "version": "3.7.6"
  }
 },
 "nbformat": 4,
 "nbformat_minor": 4
}
